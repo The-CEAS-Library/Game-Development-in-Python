{
 "cells": [
  {
   "cell_type": "markdown",
   "metadata": {},
   "source": [
    "# Objectives\n",
    "\n",
    "* **Game Development with Python**<br>\n",
    "\n",
    "* **Hands-on**\n",
    " * Basic Setup and display\n",
    " * Pygame `surface` and `sprite` object<br>\n",
    " * Time Monitoring in Pygame\n",
    " * Game Loop and Event\n"
   ]
  },
  {
   "cell_type": "markdown",
   "metadata": {},
   "source": [
    "# Basic Setup and Display\n",
    "\n",
    "- Import `pygame` and `random` modules\n",
    "- Then, import some locals. You can think of these like pygame keywords.\n",
    "    - `RLEACCEL` means run-length encoding. Basically, this is how we render sprites\n",
    "    - `K_UP, K_DOWN, K_LEFT, K_RIGHT` are used for different keys within our game. We will use these to move our player. \n",
    "    - `KEYDOWN` is used to capture any keypress. This will be used in tandem with `K_ESCAPE` to exit the game.\n",
    "    - `QUIT` is an event used to quit the game, which will be triggered from the aforementioned.\n",
    "- `pygame.init` runs the display.\n",
    "- `SCREEN_WIDTH` and `SCREEN_HEIGHT` are used to define the window size.\n",
    "- `pygame.display.set_mode` is used to set the size of our window."
   ]
  },
  {
   "cell_type": "code",
   "execution_count": 8,
   "metadata": {},
   "outputs": [],
   "source": [
    "# Import the pygame module\n",
    "import pygame\n",
    "import random\n",
    "# Import pygame.locals for easier access to key coordinates\n",
    "# Updated to conform to flake8 and black standards\n",
    "from pygame.locals import (\n",
    "    RLEACCEL,\n",
    "    K_UP,\n",
    "    K_DOWN,\n",
    "    K_LEFT,\n",
    "    K_RIGHT,\n",
    "    K_ESCAPE,\n",
    "    KEYDOWN,\n",
    "    QUIT,\n",
    ")\n",
    "\n",
    "# Initialize pygame\n",
    "pygame.init()\n",
    "\n",
    "# Define constants for the screen width and height\n",
    "SCREEN_WIDTH = 800\n",
    "SCREEN_HEIGHT = 600\n",
    "\n",
    "# Create the screen object\n",
    "# The size is determined by the constant SCREEN_WIDTH and SCREEN_HEIGHT\n",
    "screen = pygame.display.set_mode((SCREEN_WIDTH, SCREEN_HEIGHT))\n",
    "# Fill the screen with black\n",
    "screen.fill((135,206,250))\n",
    "pygame.display.flip()\n"
   ]
  },
  {
   "cell_type": "markdown",
   "metadata": {},
   "source": [
    "# Drawing with Surfaces\n",
    "\n",
    "A `Surface` is a PyGame object that we can draw on, like a piece of paper.\n",
    "\n",
    "- Initialization: creating a `surface` object and pass a tuple of two integer values to define the LxW of the `Surface`\n",
    "- `.fill(L,W)`: represent and RGB value for the whole `Surface`\n",
    "- `.blit(surface_obj, (x_coordinate, y_coordinate))`: Draw that `Surface` onto the `Surface` that the function was called from at at the position defined in the tuple.\n",
    "- `pygame.display.flip()`: update the screen with the modifications from the above"
   ]
  },
  {
   "cell_type": "code",
   "execution_count": 2,
   "metadata": {},
   "outputs": [],
   "source": [
    "# Create a surface and pass in a tuple containing its length and width\n",
    "surf = pygame.Surface((50, 50))\n",
    "\n",
    "# Give the surface a color to separate it from the background\n",
    "surf.fill((0, 0, 0))\n",
    "\n",
    "# Draw surf onto the screen at the center\n",
    "screen.blit(surf, (SCREEN_WIDTH/2, SCREEN_HEIGHT/2))\n",
    "pygame.display.flip()"
   ]
  },
  {
   "cell_type": "code",
   "execution_count": 3,
   "metadata": {},
   "outputs": [],
   "source": [
    "pygame.time.delay(20000)\n",
    "pygame.quit()"
   ]
  },
  {
   "cell_type": "markdown",
   "metadata": {},
   "source": [
    "# Sprite\n",
    "\n",
    "In video game development, a `sprite` refers to a graphical object that is moved around the screen. This could be a character, an enemy, a projectile, an item, or any other visual element (images) that you want to control or manipulate.\n",
    "\n",
    "Pygame simplifies the process of working with sprites by providing a `Sprite class`. This class isn't used directly, but is intended to be used as a `parent class` for your own `sprite objects`. The Pygame `Sprite class` provides some basic features that are common to `all sprites`. To use it, you create a new class that extends `Sprite`. This allows you to use its built-in features and methods.\n",
    "\n",
    "We will create a `Sprite` for our Player/Character. This will be the unit that we control in the game. \n",
    "\n",
    "- In the constructor, We define a `surf` and a `rect`. These are used to control the appearance and the position of the sprite accordingly.\n",
    "- `surf` is to create a \"canvas\" for the player to visualize itself on the background canvas (the image of the player/character)\n",
    "- `rect` is also known as \"hitbox\", which is the rectangular space covering the surface. This rectangle will always start at (0, 0) with a width and height the same size as the image. so `get_rect` will return the rectangle at position (0,0) by default. However, it can be adjusted by using the attribute `center`"
   ]
  },
  {
   "cell_type": "code",
   "execution_count": 5,
   "metadata": {},
   "outputs": [],
   "source": [
    "# Define the Player object extending pygame.sprite.Sprite\n",
    "# Instead of a surface, we use an image for a better looking sprite\n",
    "class Player(pygame.sprite.Sprite):\n",
    "    def __init__(self):\n",
    "        super(Player, self).__init__()\n",
    "        self.surf = pygame.Surface((75, 25))\n",
    "        self.surf.fill((0, 0, 0))\n",
    "        self.rect = self.surf.get_rect()"
   ]
  },
  {
   "cell_type": "markdown",
   "metadata": {},
   "source": [
    "# Showing the Sprite on the screen\n",
    "\n",
    "- After creating a class for the `player sprite`, we need to bring it onto the screen. To do that, we need to use the `.blit()` method to draw the `player sprite` onto the screen.\n",
    "\n",
    "syntax: `screen.blit(player.surf, player.rect)`"
   ]
  },
  {
   "cell_type": "code",
   "execution_count": 6,
   "metadata": {},
   "outputs": [],
   "source": [
    "player = Player()\n",
    "screen.blit(player.surf, player.rect)\n",
    "pygame.display.flip()"
   ]
  },
  {
   "cell_type": "code",
   "execution_count": 7,
   "metadata": {},
   "outputs": [],
   "source": [
    "pygame.time.delay(20000)\n",
    "pygame.quit()"
   ]
  },
  {
   "cell_type": "markdown",
   "metadata": {},
   "source": [
    "# Sprite Images\n",
    "\n",
    "- Add a new constant called `RLEACCEL`. This is used to help pygame render faster.\n",
    "- Create a `surf` for the `Player` sprite.\n",
    "    - `self.surf = pygame.image.load(\"jet.png\").convert()` loads the sprite's image\n",
    "    - `self.surf.set_colorkey((255, 255, 255), RLEACCEL)` is used to make the image's edges transparent. Because the background of `jet.png` is white, when we select `(255, 255, 255)` we are turning the white transparent."
   ]
  },
  {
   "cell_type": "code",
   "execution_count": 22,
   "metadata": {},
   "outputs": [],
   "source": [
    "class Player(pygame.sprite.Sprite):\n",
    "    def __init__(self):\n",
    "        super(Player, self).__init__()\n",
    "        self.surf = pygame.image.load(\"jet.png\").convert()\n",
    "        self.surf.set_colorkey((255, 255, 255), RLEACCEL)\n",
    "        self.rect = self.surf.get_rect()\n",
    "player = Player()\n",
    "screen.blit(player.surf, player.rect)\n",
    "pygame.display.flip()\n",
    "pygame.time.delay(20000)\n",
    "pygame.quit()"
   ]
  },
  {
   "cell_type": "markdown",
   "metadata": {},
   "source": [
    "# Controlling the Player\n",
    "\n",
    "- We use an `update` method to define how the sprite will move and interact with the rest of the game. \n",
    "    - For each pressed key, move our `sprite` in the respective direction.\n",
    "    - If the sprite moves off of the screen, move them back. \n",
    "    - The top-left corner of a Surface is coordinate (0, 0). It is also the default starting point.\n",
    "- In the game loop, we add two lines:\n",
    "    - `pressed_keys = pygame.key.get_pressed()` : this is for taking pressed keys from keyboard as input for the game\n",
    "    - `player.update(pressed_keys)` :  this is for calling the `update` function inside the sprite with the pressed key to update the position of the sprite"
   ]
  },
  {
   "cell_type": "code",
   "execution_count": 3,
   "metadata": {},
   "outputs": [],
   "source": [
    "class Player(pygame.sprite.Sprite):\n",
    "    def __init__(self):\n",
    "        super(Player, self).__init__()\n",
    "        self.surf = pygame.image.load(\"jet.png\").convert()\n",
    "        self.surf.set_colorkey((255, 255, 255), RLEACCEL)\n",
    "        self.rect = self.surf.get_rect()\n",
    "    # Move the sprite based on user keypresses\n",
    "    def update(self, pressed_keys):\n",
    "        if pressed_keys[K_UP]:\n",
    "            self.rect.move_ip(0, -5)\n",
    "        if pressed_keys[K_DOWN]:\n",
    "            self.rect.move_ip(0, 5)\n",
    "        if pressed_keys[K_LEFT]:\n",
    "            self.rect.move_ip(-5, 0)\n",
    "        if pressed_keys[K_RIGHT]:\n",
    "            self.rect.move_ip(5, 0)\n",
    "\n",
    "        # Keep player on the screen\n",
    "        if self.rect.left < 0:\n",
    "            self.rect.left = 0\n",
    "        elif self.rect.right > SCREEN_WIDTH:\n",
    "            self.rect.right = SCREEN_WIDTH\n",
    "        if self.rect.top <= 0:\n",
    "            self.rect.top = 0\n",
    "        elif self.rect.bottom >= SCREEN_HEIGHT:\n",
    "            self.rect.bottom = SCREEN_HEIGHT\n",
    "\n",
    "player = Player()"
   ]
  },
  {
   "cell_type": "code",
   "execution_count": 8,
   "metadata": {},
   "outputs": [],
   "source": [
    "# Main loop\n",
    "running = True\n",
    "while running:\n",
    "\n",
    "    # for loop through the event queue\n",
    "    for event in pygame.event.get():\n",
    "\n",
    "        # Check for KEYDOWN event\n",
    "        if event.type == KEYDOWN:\n",
    "\n",
    "            # If the Esc key is pressed, then exit the main loop\n",
    "            if event.key == K_ESCAPE:\n",
    "                running = False\n",
    "\n",
    "        # Check for QUIT event. If QUIT, then set running to false.\n",
    "        elif event.type == QUIT:\n",
    "            running = False\n",
    "\n",
    "    # Get all the keys currently pressed\n",
    "    pressed_keys = pygame.key.get_pressed()\n",
    "\n",
    "    # Update the player sprite based on user keypresses\n",
    "    player.update(pressed_keys)\n",
    "    #Fill the screen with blue\n",
    "    screen.fill((135,206,250))\n",
    "    # Draw the player on the screen\n",
    "    screen.blit(player.surf, player.rect)\n",
    "\n",
    "    # Update the display\n",
    "    pygame.display.flip()\n",
    "pygame.quit()"
   ]
  },
  {
   "cell_type": "markdown",
   "metadata": {},
   "source": [
    "# Enemy and Cloud Sprites\n",
    "\n",
    "Next, we define a sprite for the enemies. We import the `random` to randomly spawn enemies\n",
    "\n",
    "- In the constructor, we again use a `surf` and `rect`.\n",
    "- When we define our object's original position, we can't always use the same starting point for every object or the game wouldn't be challenging.\n",
    "    - We use random values within a range to define the starting point.\n",
    "    - For the horizontal, we wouldn't want to spawn objects on screen, we would want to spawn objects off of the right side and have them fly into view. So, we use a range that starts larger than `SCREEN_WIDTH`\n",
    "    - Enemies should spawn at any height, so we use a range of 0 to `SCREEN_HEIGHT`\n",
    "- The velocity of the enemies should vary. So, we use a random `self.speed` to define the sprite's speed per sprite.\n",
    "- In the `update()`, This is where we use our `self.speed`.\n",
    "    - Every update, we move our object to the left by `self.speed`.\n",
    "    - When the object goes off of the left side of the screen, we can `kill` it."
   ]
  },
  {
   "cell_type": "code",
   "execution_count": 9,
   "metadata": {},
   "outputs": [],
   "source": [
    "# Define the enemy object extending pygame.sprite.Sprite\n",
    "# Instead of a surface, we use an image for a better looking sprite\n",
    "class Enemy(pygame.sprite.Sprite):\n",
    "    def __init__(self):\n",
    "        super(Enemy, self).__init__()\n",
    "        self.surf = pygame.image.load(\"missile.png\").convert()\n",
    "        self.surf.set_colorkey((255, 255, 255), RLEACCEL)\n",
    "        # The starting position is randomly generated, as is the speed\n",
    "        self.rect = self.surf.get_rect(\n",
    "            center=(\n",
    "                random.randint(SCREEN_WIDTH/2, SCREEN_WIDTH),\n",
    "                random.randint(0, SCREEN_HEIGHT),\n",
    "            )\n",
    "        )\n",
    "        self.speed = random.randint(5, 20)\n",
    "\n",
    "    # Move the enemy based on speed\n",
    "    # Remove it when it passes the left edge of the screen\n",
    "    def update(self):\n",
    "        self.rect.move_ip(-self.speed, 0)\n",
    "        if self.rect.right < 0:\n",
    "            self.kill()"
   ]
  },
  {
   "cell_type": "markdown",
   "metadata": {},
   "source": [
    "Lastly, a cloud sprite.\n",
    "\n",
    "- We define the `surf` and `rect` in almost the exact same way that we do our `Enemy`s. \n",
    "- The difference lies in how we update the sprite. Instead, all the `Cloud`s should move at the same speed so we don't need a random value, we simply move the cloud over by -5 and `kill` when they leave the screen."
   ]
  },
  {
   "cell_type": "code",
   "execution_count": 10,
   "metadata": {},
   "outputs": [],
   "source": [
    "# Define the cloud object extending pygame.sprite.Sprite\n",
    "# Use an image for a better looking sprite\n",
    "class Cloud(pygame.sprite.Sprite):\n",
    "    def __init__(self):\n",
    "        super(Cloud, self).__init__()\n",
    "        self.surf = pygame.image.load(\"cloud.png\").convert()\n",
    "        self.surf.set_colorkey((0, 0, 0), RLEACCEL)\n",
    "        # The starting position is randomly generated\n",
    "        self.rect = self.surf.get_rect(\n",
    "            center=(\n",
    "                random.randint(SCREEN_WIDTH/2, SCREEN_WIDTH),\n",
    "                random.randint(0, SCREEN_HEIGHT),\n",
    "            )\n",
    "        )\n",
    "\n",
    "    # Move the cloud based on a constant speed\n",
    "    # Remove it when it passes the left edge of the screen\n",
    "    def update(self):\n",
    "        self.rect.move_ip(-5, 0)\n",
    "        if self.rect.right < 0:\n",
    "            self.kill()"
   ]
  },
  {
   "cell_type": "code",
   "execution_count": null,
   "metadata": {},
   "outputs": [],
   "source": [
    "cloud = Cloud()\n",
    "enemy = Enemy()\n",
    "screen.blit(enemy.surf, enemy.rect)\n",
    "screen.blit(cloud.surf, cloud.rect)\n",
    "# Update the display\n",
    "pygame.display.flip()\n",
    "pygame.time.delay(5000)\n",
    "cloud.update()\n",
    "enemy.update()\n",
    "pygame.time.delay(20000)\n",
    "pygame.quit()\n"
   ]
  },
  {
   "cell_type": "markdown",
   "metadata": {},
   "source": [
    "# Sprite Grouping\n",
    "\n",
    "A `Group` is a PyGame class used for grouping sprites together. Since many groups of sprites share similar behaviors, we need to create `Group`s for them. `Enemy`s and `Cloud`s each get their own group named respectively. We also create a group for `all_sprites`.\n",
    "\n",
    "We don't know how many Sprites we may have on screen at a time because enemies and clouds are randomly generated. So, in our game loop we can render the `all_sprites` Gropu instead and update this `all_sprites` as they come and go."
   ]
  },
  {
   "cell_type": "code",
   "execution_count": 14,
   "metadata": {},
   "outputs": [],
   "source": [
    "# Create our 'player'\n",
    "player = Player()\n",
    "\n",
    "# Create groups to hold enemy sprites, and every sprite\n",
    "# - clouds is used for clouds\n",
    "# - enemies is used for collision detection and position updates\n",
    "# - all_sprites is used for rendering\n",
    "clouds = pygame.sprite.Group()\n",
    "enemies = pygame.sprite.Group()\n",
    "all_sprites = pygame.sprite.Group()\n",
    "all_sprites.add(player)"
   ]
  },
  {
   "cell_type": "markdown",
   "metadata": {},
   "source": [
    "Below is how we can `blit` every `sprite` in a `group` to the `screen`"
   ]
  },
  {
   "cell_type": "code",
   "execution_count": null,
   "metadata": {},
   "outputs": [],
   "source": [
    "# Fill the screen with black\n",
    "screen.fill((0, 0, 0))\n",
    "\n",
    "# Draw all our sprites\n",
    "for entity in all_sprites:\n",
    "    screen.blit(entity.surf, entity.rect)\n",
    "\n",
    "# Flip everything to the display\n",
    "pygame.display.flip()"
   ]
  },
  {
   "cell_type": "markdown",
   "metadata": {},
   "source": [
    "# Add the clock and Monitor time in game"
   ]
  },
  {
   "cell_type": "markdown",
   "metadata": {},
   "source": [
    "`pygame.time` is a pygame module to monitor time in game\n",
    "\n",
    "`time.clock` will add an object to track an amount of time. The clock also provides several functions to help control a game's framerate."
   ]
  },
  {
   "cell_type": "code",
   "execution_count": null,
   "metadata": {},
   "outputs": [],
   "source": [
    "# Setup the clock for a decent framerate\n",
    "clock = pygame.time.Clock()"
   ]
  },
  {
   "cell_type": "markdown",
   "metadata": {},
   "source": [
    "# Game Loop and Event Processing\n",
    "\n",
    "The game's event loop is a central part of the game's logic that controls the flow of the game and handles user input. It repeatedly checks for events (such as keyboard inputs, mouse movements, or window close events) and updates the game state accordingly.\n",
    "\n",
    "The event loop uses the `pygame.event.get()` function to retrieve a list of all the events that have occurred since the last iteration of the loop. It then processes each event in the list using a series of if statements, checking for specific events such as `KEYDOWN` or `QUIT`."
   ]
  },
  {
   "cell_type": "code",
   "execution_count": 2,
   "metadata": {},
   "outputs": [],
   "source": [
    "# Variable to keep the main loop running\n",
    "running = True\n",
    "\n",
    "# Main loop\n",
    "while running:\n",
    "    # Look at every event in the queue\n",
    "    for event in pygame.event.get():\n",
    "        # Did the user hit a key?\n",
    "        if event.type == KEYDOWN:\n",
    "            # Was it the Escape key? If so, stop the loop.\n",
    "            if event.key == K_ESCAPE:\n",
    "                running = False\n",
    "\n",
    "        # Did the user click the window close button? If so, stop the loop.\n",
    "        elif event.type == QUIT:\n",
    "            running = False"
   ]
  },
  {
   "cell_type": "markdown",
   "metadata": {},
   "source": [
    "# Adding Enemies and Clouds into the game \n",
    "\n",
    "- We create two events for adding clouds and enemies respectively. pygame has 32 event slots, and 23 are already used. So, we use the constant `pygame.USEREVENT` and then add to it to create unique event IDs\n",
    "    - for enemies, we define a value of `pygame.USEREVENT + 1` called `ADDENEMY`. \n",
    "    - Then, we create a timer with `set_timer` where for every 250 ticks, we trigged the event of the ID that is `ADDENEMY`. \n",
    "    - The result is, every 250 ticks we are calling this event. \n",
    "    - The *behavior* of the event is defined in the game loop. For now, we just say how often the event happens.\n",
    "    - The same procedure is done for `ADDCLOUD` except every 1000 ticks."
   ]
  },
  {
   "cell_type": "code",
   "execution_count": 11,
   "metadata": {},
   "outputs": [],
   "source": [
    "\n",
    "# Create a custom events for adding enemies and clouds\n",
    "ADDENEMY = pygame.USEREVENT + 1\n",
    "pygame.time.set_timer(ADDENEMY, 250)\n",
    "ADDCLOUD = pygame.USEREVENT + 2\n",
    "pygame.time.set_timer(ADDCLOUD, 1000)"
   ]
  },
  {
   "cell_type": "code",
   "execution_count": 15,
   "metadata": {},
   "outputs": [],
   "source": [
    "running = True\n",
    "# Our main loop\n",
    "while running:\n",
    "    # Look at every event in the queue\n",
    "    for event in pygame.event.get():\n",
    "        # Did the user hit a key?\n",
    "        if event.type == KEYDOWN:\n",
    "            # Was it the Escape key? If so, stop the loop\n",
    "            if event.key == K_ESCAPE:\n",
    "                running = False\n",
    "\n",
    "        # Did the user click the window close button? If so, stop the loop\n",
    "        elif event.type == QUIT:\n",
    "            running = False        \n",
    "        # Should we add a new enemy?\n",
    "        elif event.type == ADDENEMY:\n",
    "            # Create the new enemy, and add it to our sprite groups\n",
    "            new_enemy = Enemy()\n",
    "            enemies.add(new_enemy)\n",
    "            all_sprites.add(new_enemy)\n",
    "\n",
    "        # Should we add a new cloud?\n",
    "        elif event.type == ADDCLOUD:\n",
    "            # Create the new cloud, and add it to our sprite groups\n",
    "            new_cloud = Cloud()\n",
    "            clouds.add(new_cloud)\n",
    "            all_sprites.add(new_cloud)\n",
    "\n",
    "    # Get the set of keys pressed and check for user input\n",
    "    pressed_keys = pygame.key.get_pressed()\n",
    "    player.update(pressed_keys)\n",
    "\n",
    "    # Update the position of our enemies and clouds\n",
    "    enemies.update()\n",
    "    clouds.update()\n",
    "    \n",
    "    # Fill the screen with sky blue\n",
    "    screen.fill((135, 206, 250))\n",
    "\n",
    "    # Draw all our sprites\n",
    "    for entity in all_sprites:\n",
    "        screen.blit(entity.surf, entity.rect)\n",
    "pygame.quit()"
   ]
  },
  {
   "cell_type": "markdown",
   "metadata": {},
   "source": [
    "# Collision Detection\n",
    "The following is added below \n",
    "- Use `pygame.sprite.spritecollideany()` to check if a sprite or group of sprites is touching one another.\n",
    "- If the player has collided with any enemy, kill the player and change `running` to `False`."
   ]
  },
  {
   "cell_type": "code",
   "execution_count": null,
   "metadata": {},
   "outputs": [],
   "source": [
    "# Draw all our sprites\n",
    "for entity in all_sprites:\n",
    "    screen.blit(entity.surf, entity.rect)\n",
    "\n",
    "# Check if any enemies have collided with the player\n",
    "if pygame.sprite.spritecollideany(player, enemies):\n",
    "    # If so, remove the player\n",
    "    player.kill()\n",
    "\n",
    "    # Stop the loop\n",
    "    running = False\n",
    "\n",
    "# Flip everything to the display\n",
    "pygame.display.flip()"
   ]
  },
  {
   "cell_type": "markdown",
   "metadata": {},
   "source": [
    "## Fill the game background with a blue sky\n",
    "\n",
    "The last line below is added to our game loop"
   ]
  },
  {
   "cell_type": "code",
   "execution_count": null,
   "metadata": {},
   "outputs": [],
   "source": [
    "# Update the position of our enemies and clouds\n",
    "enemies.update()\n",
    "clouds.update()\n",
    "\n",
    "# Fill the screen with sky blue\n",
    "screen.fill((135, 206, 250))"
   ]
  },
  {
   "cell_type": "markdown",
   "metadata": {},
   "source": [
    "# Game Speed\n",
    "\n",
    "- The game will render as fast as the processor can/chooses to render the game\n",
    "- This causes inconsistencies across different machines\n",
    "- We use the `Clock` object to control the framerate\n",
    "- `Clock.tick(30)` means the game will run at 30 frames per second"
   ]
  },
  {
   "cell_type": "markdown",
   "metadata": {},
   "source": [
    "### 30 FPS defined in game loop"
   ]
  },
  {
   "cell_type": "code",
   "execution_count": null,
   "metadata": {},
   "outputs": [],
   "source": [
    "# Flip everything to the display\n",
    "pygame.display.flip()\n",
    "\n",
    "# Ensure we maintain a 30 frames per second rate\n",
    "clock.tick(30)"
   ]
  },
  {
   "cell_type": "markdown",
   "metadata": {},
   "source": [
    "# Final Game Code"
   ]
  },
  {
   "cell_type": "code",
   "execution_count": null,
   "metadata": {},
   "outputs": [],
   "source": [
    "# Import the pygame module\n",
    "import pygame\n",
    "\n",
    "# Import random for random numbers\n",
    "import random\n",
    "\n",
    "# Import pygame.locals for easier access to key coordinates\n",
    "# Updated to conform to flake8 and black standards\n",
    "# from pygame.locals import *\n",
    "from pygame.locals import (\n",
    "    RLEACCEL,\n",
    "    K_UP,\n",
    "    K_DOWN,\n",
    "    K_LEFT,\n",
    "    K_RIGHT,\n",
    "    K_ESCAPE,\n",
    "    KEYDOWN,\n",
    "    QUIT,\n",
    ")\n",
    "\n",
    "# Define constants for the screen width and height\n",
    "SCREEN_WIDTH = 800\n",
    "SCREEN_HEIGHT = 600\n",
    "\n",
    "# Define the Player object extending pygame.sprite.Sprite\n",
    "# Instead of a surface, we use an image for a better looking sprite\n",
    "class Player(pygame.sprite.Sprite):\n",
    "    def __init__(self):\n",
    "        super(Player, self).__init__()\n",
    "        self.surf = pygame.image.load(\"jet.png\").convert()\n",
    "        self.surf.set_colorkey((255, 255, 255), RLEACCEL)\n",
    "        self.rect = self.surf.get_rect()\n",
    "\n",
    "    # Move the sprite based on keypresses\n",
    "    def update(self, pressed_keys):\n",
    "        if pressed_keys[K_UP]:\n",
    "            self.rect.move_ip(0, -5)\n",
    "        if pressed_keys[K_DOWN]:\n",
    "            self.rect.move_ip(0, 5)\n",
    "        if pressed_keys[K_LEFT]:\n",
    "            self.rect.move_ip(-5, 0)\n",
    "        if pressed_keys[K_RIGHT]:\n",
    "            self.rect.move_ip(5, 0)\n",
    "\n",
    "        # Keep player on the screen\n",
    "        if self.rect.left < 0:\n",
    "            self.rect.left = 0\n",
    "        elif self.rect.right > SCREEN_WIDTH:\n",
    "            self.rect.right = SCREEN_WIDTH\n",
    "        if self.rect.top <= 0:\n",
    "            self.rect.top = 0\n",
    "        elif self.rect.bottom >= SCREEN_HEIGHT:\n",
    "            self.rect.bottom = SCREEN_HEIGHT\n",
    "\n",
    "\n",
    "# Define the enemy object extending pygame.sprite.Sprite\n",
    "# Instead of a surface, we use an image for a better looking sprite\n",
    "class Enemy(pygame.sprite.Sprite):\n",
    "    def __init__(self):\n",
    "        super(Enemy, self).__init__()\n",
    "        self.surf = pygame.image.load(\"missile.png\").convert()\n",
    "        self.surf.set_colorkey((255, 255, 255), RLEACCEL)\n",
    "        # The starting position is randomly generated, as is the speed\n",
    "        self.rect = self.surf.get_rect(\n",
    "            center=(\n",
    "                random.randint(SCREEN_WIDTH + 20, SCREEN_WIDTH + 100),\n",
    "                random.randint(0, SCREEN_HEIGHT),\n",
    "            )\n",
    "        )\n",
    "        self.speed = random.randint(5, 20)\n",
    "\n",
    "    # Move the enemy based on speed\n",
    "    # Remove it when it passes the left edge of the screen\n",
    "    def update(self):\n",
    "        self.rect.move_ip(-self.speed, 0)\n",
    "        if self.rect.right < 0:\n",
    "            self.kill()\n",
    "\n",
    "\n",
    "# Define the cloud object extending pygame.sprite.Sprite\n",
    "# Use an image for a better looking sprite\n",
    "class Cloud(pygame.sprite.Sprite):\n",
    "    def __init__(self):\n",
    "        super(Cloud, self).__init__()\n",
    "        self.surf = pygame.image.load(\"cloud.png\").convert()\n",
    "        self.surf.set_colorkey((0, 0, 0), RLEACCEL)\n",
    "        # The starting position is randomly generated\n",
    "        self.rect = self.surf.get_rect(\n",
    "            center=(\n",
    "                random.randint(SCREEN_WIDTH + 20, SCREEN_WIDTH + 100),\n",
    "                random.randint(0, SCREEN_HEIGHT),\n",
    "            )\n",
    "        )\n",
    "\n",
    "    # Move the cloud based on a constant speed\n",
    "    # Remove it when it passes the left edge of the screen\n",
    "    def update(self):\n",
    "        self.rect.move_ip(-5, 0)\n",
    "        if self.rect.right < 0:\n",
    "            self.kill()\n",
    "\n",
    "# Initialize pygame\n",
    "pygame.init()\n",
    "\n",
    "# Setup the clock for a decent framerate\n",
    "clock = pygame.time.Clock()\n",
    "\n",
    "# Create the screen object\n",
    "# The size is determined by the constant SCREEN_WIDTH and SCREEN_HEIGHT\n",
    "screen = pygame.display.set_mode((SCREEN_WIDTH, SCREEN_HEIGHT))\n",
    "\n",
    "# Create custom events for adding a new enemy and cloud\n",
    "ADDENEMY = pygame.USEREVENT + 1\n",
    "pygame.time.set_timer(ADDENEMY, 250)\n",
    "ADDCLOUD = pygame.USEREVENT + 2\n",
    "pygame.time.set_timer(ADDCLOUD, 1000)\n",
    "\n",
    "# Create our 'player'\n",
    "player = Player()\n",
    "\n",
    "# Create groups to hold enemy sprites, cloud sprites, and all sprites\n",
    "# - enemies is used for collision detection and position updates\n",
    "# - clouds is used for position updates\n",
    "# - all_sprites isused for rendering\n",
    "enemies = pygame.sprite.Group()\n",
    "clouds = pygame.sprite.Group()\n",
    "all_sprites = pygame.sprite.Group()\n",
    "all_sprites.add(player)\n",
    "\n",
    "# Variable to keep our main loop running\n",
    "running = True\n",
    "\n",
    "# Our main loop\n",
    "while running:\n",
    "    # Look at every event in the queue\n",
    "    for event in pygame.event.get():\n",
    "        # Did the user hit a key?\n",
    "        if event.type == KEYDOWN:\n",
    "            # Was it the Escape key? If so, stop the loop\n",
    "            if event.key == K_ESCAPE:\n",
    "                running = False\n",
    "\n",
    "        # Did the user click the window close button? If so, stop the loop\n",
    "        elif event.type == QUIT:\n",
    "            running = False\n",
    "\n",
    "        # Should we add a new enemy?\n",
    "        elif event.type == ADDENEMY:\n",
    "            # Create the new enemy, and add it to our sprite groups\n",
    "            new_enemy = Enemy()\n",
    "            enemies.add(new_enemy)\n",
    "            all_sprites.add(new_enemy)\n",
    "\n",
    "        # Should we add a new cloud?\n",
    "        elif event.type == ADDCLOUD:\n",
    "            # Create the new cloud, and add it to our sprite groups\n",
    "            new_cloud = Cloud()\n",
    "            clouds.add(new_cloud)\n",
    "            all_sprites.add(new_cloud)\n",
    "\n",
    "    # Get the set of keys pressed and check for user input\n",
    "    pressed_keys = pygame.key.get_pressed()\n",
    "    player.update(pressed_keys)\n",
    "\n",
    "    # Update the position of our enemies and clouds\n",
    "    enemies.update()\n",
    "    clouds.update()\n",
    "\n",
    "    # Fill the screen with sky blue\n",
    "    screen.fill((135, 206, 250))\n",
    "\n",
    "    # Draw all our sprites\n",
    "    for entity in all_sprites:\n",
    "        screen.blit(entity.surf, entity.rect)\n",
    "\n",
    "    # Check if any enemies have collided with the player\n",
    "    if pygame.sprite.spritecollideany(player, enemies):\n",
    "        # If so, remove the player\n",
    "        player.kill()\n",
    "\n",
    "        # Stop the loop\n",
    "        running = False\n",
    "\n",
    "    # Flip everything to the display\n",
    "    pygame.display.flip()\n",
    "\n",
    "    # Ensure we maintain a 30 frames per second rate\n",
    "    clock.tick(30)\n",
    "\n",
    "pygame.quit()"
   ]
  }
 ],
 "metadata": {
  "kernelspec": {
   "display_name": "Python 3.10.11 64-bit (microsoft store)",
   "language": "python",
   "name": "python3"
  },
  "language_info": {
   "codemirror_mode": {
    "name": "ipython",
    "version": 3
   },
   "file_extension": ".py",
   "mimetype": "text/x-python",
   "name": "python",
   "nbconvert_exporter": "python",
   "pygments_lexer": "ipython3",
   "version": "3.10.11"
  },
  "orig_nbformat": 4,
  "vscode": {
   "interpreter": {
    "hash": "be7bbb0912720c965b28cc6daf91a7c3bf889f4f8b3681e4fefc14e6351ba0ef"
   }
  }
 },
 "nbformat": 4,
 "nbformat_minor": 2
}
